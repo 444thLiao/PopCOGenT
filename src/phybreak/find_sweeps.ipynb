{
 "cells": [
  {
   "cell_type": "code",
   "execution_count": 1,
   "metadata": {},
   "outputs": [],
   "source": [
    "from Bio import SeqIO\n",
    "import glob\n",
    "import pandas as pd\n",
    "from itertools import combinations, product\n",
    "import numpy as np\n",
    "from scipy import stats \n",
    "\n",
    "# Input files\n",
    "lcb_map = 'rumino0.tree_to_LCB.txt' # Maps tree to LCB file\n",
    "pop_map = '../../Data/Clusters/rumino_0.000355362.txt.cluster.tab.txt' # ClusterPop Clusters\n",
    "msa_file = '../alignment_blocks/rumino0.core.fasta' # Multiple sequence alignment\n",
    "\n",
    "p1 = 0.0138272139869 # Average nucleotide diversity of population I\n",
    "p0 = 0.00521122600799 # Average nucleotide diversity of population II\n",
    "p0vp1 = 0.018270053640144713 # Average nucleotide diversity between I and II\n",
    "alpha = 0.95 # Cutoff for determining whether a putative sweep region is significantly lower in diversity than expected\n",
    "\n",
    "LCB_table = pd.read_table(lcb_map)\n",
    "total_alignment = {s.id : str(s.seq) for s in SeqIO.parse(msa_file, 'fasta')}\n",
    "\n",
    "df = pd.read_table(pop_map)\n",
    "pop0 = [strain.replace('_', '').replace('.','').replace('--', '_') for strain in df[df['Cluster_ID'] == 0].Strain]\n",
    "pop1 = [strain.replace('_', '').replace('.','').replace('--', '_') for strain in df[df['Cluster_ID'] == 0.1].Strain]\n",
    "pop2 = [strain.replace('_', '').replace('.','').replace('--', '_') for strain in df[df['Cluster_ID'] == 0.2].Strain]\n",
    "\n",
    "# Outdf is the dataframe of nucleotide diversity per block\n",
    "outdf = pd.read_csv('pi_join_info.csv', index_col=0)\n",
    "outdf['block'] = outdf.index\n",
    "\n",
    "outdf['Length'] = outdf.end - outdf.start\n",
    "outdf['Midpoint'] = outdf.start + (outdf.end - outdf.start) // 2\n",
    "outdf['Start'] = outdf['start']\n",
    "outdf['End'] = outdf['end']\n",
    "outdf = outdf.sort_values('Midpoint')\n",
    "outdf = outdf.merge(LCB_table)\n"
   ]
  },
  {
   "cell_type": "code",
   "execution_count": 9,
   "metadata": {},
   "outputs": [],
   "source": [
    "def concatenate_windows(sweepdf, length_cutoff=1000):\n",
    "    i = 0\n",
    "    final_df = pd.DataFrame()\n",
    "    current_end = None\n",
    "    blocks = []\n",
    "    for index, row in sweepdf.iterrows():\n",
    "        if not current_end:\n",
    "            current_end = row['End']\n",
    "            blocks.append(index)\n",
    "        elif row['Start'] <= current_end:\n",
    "            blocks.append(index)\n",
    "\n",
    "        else: \n",
    "            if len(blocks) > 0:\n",
    "                if sweepdf.loc[max(blocks), 'End'] - sweepdf.loc[min(blocks), 'Start'] >= length_cutoff:\n",
    "                    block_begin = min(blocks)\n",
    "                    block_end = max(blocks)\n",
    "                    final_df.loc[i, 'Start'] = sweepdf.loc[min(blocks), 'Start']\n",
    "                    final_df.loc[i, 'End'] = sweepdf.loc[max(blocks), 'End']\n",
    "                    final_df.loc[i, 'Start tree'] = min(blocks)\n",
    "                    final_df.loc[i, 'End tree'] = max(blocks)\n",
    "                    i += 1\n",
    "            blocks = []\n",
    "        current_end = row['End']\n",
    "        \n",
    "    if len(blocks) > 0:\n",
    "        if sweepdf.loc[max(blocks), 'End'] - sweepdf.loc[min(blocks), 'Start'] >= length_cutoff:\n",
    "            block_begin = min(blocks)\n",
    "            block_end = max(blocks)\n",
    "            final_df.loc[i, 'Start'] = sweepdf.loc[min(blocks), 'Start']\n",
    "            final_df.loc[i, 'End'] = sweepdf.loc[max(blocks), 'End']\n",
    "            final_df.loc[i, 'Start tree'] = min(blocks)\n",
    "            final_df.loc[i, 'End tree'] = max(blocks)\n",
    "\n",
    "    final_df['Midpoint'] = final_df.Start + ((final_df.End - final_df.Start) // 2)\n",
    "    return final_df\n",
    "\n",
    "def calc_all_divs(concatenated_positions,\n",
    "                  population,\n",
    "                  pi,\n",
    "                  alpha,\n",
    "                  pop_compare_name, pop_compare, inter_pi):\n",
    "    finaldf = pd.DataFrame(index=concatenated_positions.index, columns=['Start',\n",
    "                                                                        'End',\n",
    "                                                                        'Start tree',\n",
    "                                                                        'End tree',\n",
    "                                                                        'pop_pi',\n",
    "                                                                        'inter_pi'])\n",
    "    for i in concatenated_positions.index:\n",
    "        start = int(concatenated_positions.loc[i, 'Start'])\n",
    "        end = int(concatenated_positions.loc[i, 'End'])\n",
    "        seqs = {}\n",
    "        for strain, s in total_alignment.items():\n",
    "            seqs[strain] = s[start: end]\n",
    "        \n",
    "        pop_div = calc_pop_div(population, seqs)\n",
    "        inter_div = calc_inter_div(population, pop_compare, seqs)\n",
    "        \n",
    "        finaldf.loc[i, ] = [start,\n",
    "                            end,\n",
    "                            concatenated_positions.loc[i, 'Start tree'],\n",
    "                            concatenated_positions.loc[i, 'End tree'],\n",
    "                            pop_div,\n",
    "                            inter_div]\n",
    "        \n",
    "    finaldf['Length'] = finaldf.End - finaldf.Start\n",
    "    finaldf['Midpoint'] = finaldf.Start + ((finaldf.End - finaldf.Start) // 2)\n",
    "    calculate_ci(finaldf, 'pop_pi', alpha, pi)\n",
    "    return finaldf\n",
    "    \n",
    "def count_divs(s1, s2):\n",
    "    d = 0\n",
    "    for b1, b2 in zip(s1, s2):\n",
    "        if b1 != b2:\n",
    "            d += 1\n",
    "    return d * 1.0 / len(s1)\n",
    "\n",
    "def calc_pop_div(pop, s_dict):\n",
    "    aves = []\n",
    "    for strain1, strain2 in combinations(pop, 2):\n",
    "        if strain1 in s_dict.keys() and strain2 in s_dict.keys():\n",
    "            aves.append(count_divs(s_dict[strain1], s_dict[strain2]))\n",
    "    return(np.average(aves))\n",
    "\n",
    "def calc_inter_div(pop_1, pop_2, s_dict):\n",
    "    aves = []\n",
    "    for strain1, strain2 in product(pop_1, pop_2):\n",
    "        if strain1 in s_dict.keys() and strain2 in s_dict.keys():\n",
    "            aves.append(count_divs(s_dict[strain1], s_dict[strain2]))\n",
    "    return(np.average(aves))\n",
    "\n",
    "\n",
    "def calculate_ci(df, pop_name, alpha, p_pop):\n",
    "    low, high = stats.binom.interval(alpha, list(df.Length), p_pop)\n",
    "    df['ci_low'] = low / df.Length\n",
    "    df['ci_high'] = high / df.Length\n",
    "\n",
    "def passes_phylo_criteria(full_df, cutoff, focus_pop):\n",
    "    return (full_df.focus < cutoff) & (full_df.monophy == 1) & ((full_df[focus_pop] < full_df.ci_low) | (full_df[focus_pop]==0))\n",
    "\n",
    "def find_sweeps(phybreak_df, pi_info_df, pop_pi, alpha, pop_name, pop_list, pop_compare_name, pop_compare, inter_pi):\n",
    "    full_df = pd.merge(pi_info_df, phybreak_df)\n",
    "    full_df.index = full_df.block\n",
    "    calculate_ci(full_df, pop_name, alpha, pop_pi)\n",
    "    \n",
    "    # Finds cutoff based on fraction of branch length within the focus population\n",
    "    cutoff = np.percentile(full_df.focus, 5)\n",
    "    trees_passing_phy_criteria = full_df[passes_phylo_criteria(full_df, cutoff, pop_name)]\n",
    "    concat = concatenate_windows(trees_passing_phy_criteria, length_cutoff=500)\n",
    "    concat = calc_all_divs(concat, pop_list, pop_pi, alpha , pop_compare_name, pop_compare, inter_pi)\n",
    "    for col in concat:\n",
    "        concat[col] = concat[col].astype(float)\n",
    "    return (full_df, concat)\n",
    "\n"
   ]
  },
  {
   "cell_type": "code",
   "execution_count": 11,
   "metadata": {},
   "outputs": [
    {
     "data": {
      "image/png": "[encoded data removed]",
      "text/plain": [
       "<Figure size 216x108 with 1 Axes>"
      ]
     },
     "metadata": {
      "needs_background": "light"
     },
     "output_type": "display_data"
    }
   ],
   "source": [
    "pop_1_phybreak = pd.read_table('../phybreak_result_0-1.txt')\n",
    "plotdf_pop1, concat_pop1 = find_sweeps(pop_1_phybreak, outdf, p1, alpha, 'Pop1', pop1, 'Pop0', pop0, p0vp1)\n",
    "\n",
    "final = concat_pop1[(concat_pop1.pop_pi < concat_pop1.ci_low) | (concat_pop1.pop_pi == 0)]\n",
    "final.to_csv('sweep_results/population_0.1_sweeps.csv', index=None)"
   ]
  },
  {
   "cell_type": "code",
   "execution_count": 12,
   "metadata": {
    "scrolled": false
   },
   "outputs": [
    {
     "data": {
      "image/png": "[encoded data removed]",
      "text/plain": [
       "<Figure size 216x108 with 1 Axes>"
      ]
     },
     "metadata": {
      "needs_background": "light"
     },
     "output_type": "display_data"
    }
   ],
   "source": [
    "pop_0_phybreak = pd.read_table('../phybreak_result_0-0.txt')\n",
    "plotdf_pop0, concat_pop0 = find_sweeps(pop_0_phybreak, outdf, p0, alpha, 'Pop0', pop0, 'Pop1', pop1, p0vp1)\n",
    "final = concat_pop0[(concat_pop0.pop_pi < concat_pop0.ci_low) | (concat_pop0.pop_pi == 0)]\n",
    "final.to_csv('sweep_results/population_0.0_sweeps.csv', index=None)"
   ]
  },
  {
   "cell_type": "code",
   "execution_count": null,
   "metadata": {},
   "outputs": [],
   "source": []
  },
  {
   "cell_type": "code",
   "execution_count": null,
   "metadata": {},
   "outputs": [],
   "source": [
    "stripplot_df"
   ]
  },
  {
   "cell_type": "code",
   "execution_count": null,
   "metadata": {},
   "outputs": [],
   "source": []
  }
 ],
 "metadata": {
  "kernelspec": {
   "display_name": "Python 3",
   "language": "python",
   "name": "python3"
  },
  "language_info": {
   "codemirror_mode": {
    "name": "ipython",
    "version": 3
   },
   "file_extension": ".py",
   "mimetype": "text/x-python",
   "name": "python",
   "nbconvert_exporter": "python",
   "pygments_lexer": "ipython3",
   "version": "3.7.0"
  }
 },
 "nbformat": 4,
 "nbformat_minor": 2
}
