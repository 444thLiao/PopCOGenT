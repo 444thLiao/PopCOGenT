{
 "cells": [
  {
   "cell_type": "code",
   "execution_count": 1,
   "metadata": {},
   "outputs": [],
   "source": [
    "import pandas as pd\n",
    "from Bio import SeqIO\n",
    "import glob\n",
    "from itertools import combinations, product\n",
    "from collections import defaultdict\n",
    "import numpy as np\n",
    "\n",
    "def count_divs(s1, s2):\n",
    "    d = 0\n",
    "    for b1, b2 in zip(s1, s2):\n",
    "        if b1 != b2:\n",
    "            d += 1\n",
    "    return d * 1.0 / len(s1)\n",
    "\n",
    "df = pd.read_table('pop_groups.txt')\n",
    "pop0 = df[df['pop'] == '0'].strain\n",
    "pop1 = df[df['pop'] == '0-1'].strain\n",
    "pop2 = df[df['pop'] == '0-2'].strain\n",
    "\n",
    "# Loops over all alignment blocks and puts sequences into a dictionary\n",
    "seqs = defaultdict(str)\n",
    "for f in glob.glob('*.fasta'):\n",
    "    for s in SeqIO.parse(f, 'fasta'):\n",
    "        seqs[s.id] += str(s.seq)"
   ]
  },
  {
   "cell_type": "code",
   "execution_count": 2,
   "metadata": {},
   "outputs": [
    {
     "name": "stdout",
     "output_type": "stream",
     "text": [
      "0.005211226007986305\n"
     ]
    }
   ],
   "source": [
    "# Nucleotide diversity for population I\n",
    "pop0aves = []\n",
    "for strain1, strain2 in combinations(pop0, 2):\n",
    "    if strain1 in seqs.keys() and strain2 in seqs.keys():\n",
    "        pop0aves.append(count_divs(seqs[strain1], seqs[strain2]))\n",
    "print(np.average(pop0aves))"
   ]
  },
  {
   "cell_type": "code",
   "execution_count": 3,
   "metadata": {},
   "outputs": [
    {
     "name": "stdout",
     "output_type": "stream",
     "text": [
      "0.013827213986866016\n"
     ]
    }
   ],
   "source": [
    "# Nucleotide diversity for population II\n",
    "pop1aves = []\n",
    "for strain1, strain2 in combinations(pop1, 2):\n",
    "    if strain1 in seqs.keys() and strain2 in seqs.keys():\n",
    "        pop1aves.append(count_divs(seqs[strain1], seqs[strain2]))\n",
    "print(np.average(pop1aves))"
   ]
  },
  {
   "cell_type": "code",
   "execution_count": 4,
   "metadata": {},
   "outputs": [
    {
     "name": "stdout",
     "output_type": "stream",
     "text": [
      "0.02343396299783631\n"
     ]
    }
   ],
   "source": [
    "# Nucleotide diversity for population III\n",
    "pop2aves = []\n",
    "for strain1, strain2 in combinations(pop2, 2):\n",
    "    if strain1 in seqs.keys() and strain2 in seqs.keys():\n",
    "        pop2aves.append(count_divs(seqs[strain1], seqs[strain2]))\n",
    "print(np.average(pop2aves))"
   ]
  },
  {
   "cell_type": "code",
   "execution_count": 8,
   "metadata": {},
   "outputs": [
    {
     "name": "stdout",
     "output_type": "stream",
     "text": [
      "0.018270053640144713\n"
     ]
    }
   ],
   "source": [
    "# Nucleotide diversity between populations I and II\n",
    "pop2aves = []\n",
    "for strain1, strain2 in product(list(pop0), list(pop1)):\n",
    "    if strain1 in seqs.keys() and strain2 in seqs.keys():\n",
    "        pop2aves.append(count_divs(seqs[strain1], seqs[strain2]))\n",
    "print(np.average(pop2aves))"
   ]
  },
  {
   "cell_type": "code",
   "execution_count": 2,
   "metadata": {},
   "outputs": [
    {
     "name": "stdout",
     "output_type": "stream",
     "text": [
      "0.019124413595420418\n"
     ]
    }
   ],
   "source": [
    "# Nucleotide diversity between all different populations\n",
    "aves = []\n",
    "for strain1, strain2 in product(pop1, pop2):\n",
    "    if strain1 in seqs.keys() and strain2 in seqs.keys():\n",
    "        aves.append(count_divs(seqs[strain1], seqs[strain2]))\n",
    "for strain1, strain2 in product(pop1, pop0):\n",
    "    if strain1 in seqs.keys() and strain2 in seqs.keys():\n",
    "        aves.append(count_divs(seqs[strain1], seqs[strain2]))\n",
    "for strain1, strain2 in product(pop2, pop0):\n",
    "    if strain1 in seqs.keys() and strain2 in seqs.keys():\n",
    "        aves.append(count_divs(seqs[strain1], seqs[strain2]))\n",
    "print(np.average(aves))"
   ]
  },
  {
   "cell_type": "code",
   "execution_count": null,
   "metadata": {},
   "outputs": [],
   "source": []
  }
 ],
 "metadata": {
  "kernelspec": {
   "display_name": "Python 3",
   "language": "python",
   "name": "python3"
  },
  "language_info": {
   "codemirror_mode": {
    "name": "ipython",
    "version": 3
   },
   "file_extension": ".py",
   "mimetype": "text/x-python",
   "name": "python",
   "nbconvert_exporter": "python",
   "pygments_lexer": "ipython3",
   "version": "3.7.0"
  }
 },
 "nbformat": 4,
 "nbformat_minor": 2
}
